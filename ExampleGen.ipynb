{
 "cells": [
  {
   "cell_type": "code",
   "execution_count": 1,
   "id": "2da3b9d5-9801-4387-9bbb-56c8411482a4",
   "metadata": {},
   "outputs": [],
   "source": [
    "import os\n",
    "from pathlib import Path"
   ]
  },
  {
   "cell_type": "code",
   "execution_count": 2,
   "id": "3a5663e6-a35d-43d0-ba0e-4c5f378d9046",
   "metadata": {},
   "outputs": [
    {
     "data": {
      "text/plain": [
       "'C:\\\\Users\\\\acreddy\\\\Desktop\\\\New folder\\\\ExampleGen_TFX'"
      ]
     },
     "execution_count": 2,
     "metadata": {},
     "output_type": "execute_result"
    }
   ],
   "source": [
    "os.getcwd()"
   ]
  },
  {
   "cell_type": "code",
   "execution_count": 3,
   "id": "a5127351-3e61-475e-930d-63bc37227863",
   "metadata": {},
   "outputs": [],
   "source": [
    "workdir=str(Path('C:/Users/acreddy/Desktop/New folder/ExampleGen_TFX'))"
   ]
  },
  {
   "cell_type": "code",
   "execution_count": 4,
   "id": "65459a49-7936-418c-94b0-d7309a4b3d9f",
   "metadata": {},
   "outputs": [],
   "source": [
    "csv_file_name= os.path.join(os.getcwd(), 'data', 'cab.csv')"
   ]
  },
  {
   "cell_type": "code",
   "execution_count": 5,
   "id": "3ea0a5e9-4dab-4882-b42a-16e2c7dda299",
   "metadata": {},
   "outputs": [],
   "source": [
    "import tensorflow as tf"
   ]
  },
  {
   "cell_type": "code",
   "execution_count": 6,
   "id": "2f593986-15a3-4fae-84d6-04cc369ccb81",
   "metadata": {},
   "outputs": [],
   "source": [
    "tf_record_dir= os.path.join(os.getcwd(), 'tf_record_files')"
   ]
  },
  {
   "cell_type": "code",
   "execution_count": 7,
   "id": "01d072c2-94e1-4ea7-a2b5-d7843bcef368",
   "metadata": {},
   "outputs": [],
   "source": [
    "os.makedirs(tf_record_dir, exist_ok=True)"
   ]
  },
  {
   "cell_type": "code",
   "execution_count": 8,
   "id": "b5562334-dc54-4491-aa5c-f46eaa3784a5",
   "metadata": {},
   "outputs": [],
   "source": [
    "tf_record_file_name= os.path.join(tf_record_dir, 'data.tfrecord')"
   ]
  },
  {
   "cell_type": "code",
   "execution_count": 9,
   "id": "cd17126d-c342-4d1c-b7cc-9fd0b50cdabb",
   "metadata": {},
   "outputs": [],
   "source": [
    "tf_record_writer= tf.io.TFRecordWriter(tf_record_file_name)"
   ]
  },
  {
   "cell_type": "code",
   "execution_count": 10,
   "id": "ea2ffbf4-0b7b-4452-8a32-cf06245da874",
   "metadata": {},
   "outputs": [],
   "source": [
    "def _bytes_feature(value):\n",
    "    value= value.encode()\n",
    "    return tf.train.Feature(bytes_list=tf.train.BytesList(value=[value]))"
   ]
  },
  {
   "cell_type": "code",
   "execution_count": 11,
   "id": "ff6496ed-bf93-4c57-ae76-fd5e9d4458bb",
   "metadata": {},
   "outputs": [],
   "source": [
    "def _float_feature(value):\n",
    "    return tf.train.Feature(float_list= tf.train.FloatList(value=[value]))"
   ]
  },
  {
   "cell_type": "code",
   "execution_count": 12,
   "id": "b144d660-b437-4615-907a-a7df7073197a",
   "metadata": {},
   "outputs": [],
   "source": [
    "def _int64_feature(value):\n",
    "    return tf.train.Feature(int64_list= tf.train.Int64List(value=[value]))"
   ]
  },
  {
   "cell_type": "code",
   "execution_count": 13,
   "id": "b06bfaaa-55d3-43dd-8900-ef37d1dfdaaa",
   "metadata": {},
   "outputs": [],
   "source": [
    "import csv"
   ]
  },
  {
   "cell_type": "code",
   "execution_count": 16,
   "id": "a2487a41-2cc3-48d0-ba8f-4ebd41b6eb25",
   "metadata": {},
   "outputs": [],
   "source": [
    "with open(csv_file_name) as csv_file:\n",
    "    reader= csv.DictReader(csv_file, delimiter= ',', quotechar='\"')\n",
    "    for row in reader:\n",
    "        feature= {\n",
    "            'pickup_community_area': _bytes_feature(row['pickup_community_area']),\n",
    "            'fare' : _float_feature(float(row['fare'])),\n",
    "            'trip_start_month' : _int64_feature(int(row['trip_start_month'])),\n",
    "            'trip_start_hour' : _int64_feature(int(row['trip_start_hour'])),\n",
    "            'trip_start_day' : _int64_feature(int(row['trip_start_day'])),\n",
    "            'trip_start_timestamp' : _int64_feature(int(row['trip_start_timestamp'])),\n",
    "            'pickup_latitude' : _float_feature(float(row['pickup_latitude'])),\n",
    "            'pickup_longitude' : _float_feature(float(row['pickup_longitude'])),\n",
    "            'trip_miles' : _float_feature(float(row['trip_miles'])),\n",
    "            'tips' : _float_feature(float(row['tips'])),\n",
    "            }\n",
    "        \n",
    "        features= tf.train.Features(feature= feature)\n",
    "        example= tf.train.Example(features= features)\n",
    "        tf_record_writer.write(example.SerializeToString())\n",
    "\n",
    "tf_record_writer.close()\n"
   ]
  },
  {
   "cell_type": "code",
   "execution_count": 17,
   "id": "bc4cf426-ea34-4349-bdd8-344ece4f9575",
   "metadata": {},
   "outputs": [
    {
     "data": {
      "text/plain": [
       "features {\n",
       "  feature {\n",
       "    key: \"fare\"\n",
       "    value {\n",
       "      float_list {\n",
       "        value: 5.650000095367432\n",
       "      }\n",
       "    }\n",
       "  }\n",
       "  feature {\n",
       "    key: \"pickup_community_area\"\n",
       "    value {\n",
       "      bytes_list {\n",
       "        value: \"61\"\n",
       "      }\n",
       "    }\n",
       "  }\n",
       "  feature {\n",
       "    key: \"pickup_latitude\"\n",
       "    value {\n",
       "      float_list {\n",
       "        value: 41.809017181396484\n",
       "      }\n",
       "    }\n",
       "  }\n",
       "  feature {\n",
       "    key: \"pickup_longitude\"\n",
       "    value {\n",
       "      float_list {\n",
       "        value: -87.65916442871094\n",
       "      }\n",
       "    }\n",
       "  }\n",
       "  feature {\n",
       "    key: \"tips\"\n",
       "    value {\n",
       "      float_list {\n",
       "        value: 0.0\n",
       "      }\n",
       "    }\n",
       "  }\n",
       "  feature {\n",
       "    key: \"trip_miles\"\n",
       "    value {\n",
       "      float_list {\n",
       "        value: 1.0\n",
       "      }\n",
       "    }\n",
       "  }\n",
       "  feature {\n",
       "    key: \"trip_start_day\"\n",
       "    value {\n",
       "      int64_list {\n",
       "        value: 6\n",
       "      }\n",
       "    }\n",
       "  }\n",
       "  feature {\n",
       "    key: \"trip_start_hour\"\n",
       "    value {\n",
       "      int64_list {\n",
       "        value: 14\n",
       "      }\n",
       "    }\n",
       "  }\n",
       "  feature {\n",
       "    key: \"trip_start_month\"\n",
       "    value {\n",
       "      int64_list {\n",
       "        value: 4\n",
       "      }\n",
       "    }\n",
       "  }\n",
       "  feature {\n",
       "    key: \"trip_start_timestamp\"\n",
       "    value {\n",
       "      int64_list {\n",
       "        value: 1398436200\n",
       "      }\n",
       "    }\n",
       "  }\n",
       "}"
      ]
     },
     "execution_count": 17,
     "metadata": {},
     "output_type": "execute_result"
    }
   ],
   "source": [
    "example"
   ]
  },
  {
   "cell_type": "code",
   "execution_count": null,
   "id": "48cef0f7-91d9-475b-8b11-74ecdd2a3a3b",
   "metadata": {},
   "outputs": [],
   "source": []
  }
 ],
 "metadata": {
  "kernelspec": {
   "display_name": "Python 3 (ipykernel)",
   "language": "python",
   "name": "python3"
  },
  "language_info": {
   "codemirror_mode": {
    "name": "ipython",
    "version": 3
   },
   "file_extension": ".py",
   "mimetype": "text/x-python",
   "name": "python",
   "nbconvert_exporter": "python",
   "pygments_lexer": "ipython3",
   "version": "3.7.13"
  }
 },
 "nbformat": 4,
 "nbformat_minor": 5
}
